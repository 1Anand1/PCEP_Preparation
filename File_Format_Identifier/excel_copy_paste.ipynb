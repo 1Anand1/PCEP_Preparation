{
 "cells": [
  {
   "cell_type": "code",
   "execution_count": 1,
   "metadata": {},
   "outputs": [],
   "source": [
    "#Importing required libraries\n",
    "import shutil\n",
    "import os\n",
    "from pathlib import Path"
   ]
  },
  {
   "cell_type": "code",
   "execution_count": 2,
   "metadata": {},
   "outputs": [],
   "source": [
    "# Declaring the source and target directories \n",
    "source_location=r'C:\\Users\\DELL\\Desktop\\MLStudy\\PCEP_Preparation\\PCEP_Preparation_Repo\\File_Format_Identifier\\Source_Folder'\n",
    "target_location=r'C:\\Users\\DELL\\Desktop\\MLStudy\\PCEP_Preparation\\PCEP_Preparation_Repo\\File_Format_Identifier\\Target_Folder'"
   ]
  },
  {
   "cell_type": "code",
   "execution_count": 3,
   "metadata": {},
   "outputs": [],
   "source": [
    "# Creating the function to copy and paste the excel files only\n",
    "\n",
    "def excel_copy_paste(src_loca,tgt_loca):\n",
    "  for root,_,files in os.walk(src_loca): # Walking through the source location\n",
    "    if os.path.basename(root)=='dc': # I want to skip the folder which are named as dc particularly\n",
    "      continue\n",
    "    for file in files: # Looping through each and every file\n",
    "      if Path(file).suffix=='.xlsx': # I want to copy only excel files and nothing else\n",
    "        \n",
    "        # Making the target file ready\n",
    "        relative_path=os.path.relpath(root,src_loca) # Getting the relative path of the root\n",
    "        target_path=os.path.join(tgt_loca,relative_path) # Creating the target folder based on the struture of the parent folder\n",
    "        os.makedirs(target_path,exist_ok=True) # Making the folder to copy paste the excel file\n",
    "        target_file=os.path.join(target_path,file) # Creating the location of the target file\n",
    "\n",
    "        # Getting the source file\n",
    "        source_file=os.path.join(root,file)\n",
    "\n",
    "        # Copy pasting the file \n",
    "        shutil.copy(source_file,target_file)"
   ]
  },
  {
   "cell_type": "code",
   "execution_count": 4,
   "metadata": {},
   "outputs": [],
   "source": [
    "# Calling the function\n",
    "excel_copy_paste(source_location,target_location)"
   ]
  }
 ],
 "metadata": {
  "kernelspec": {
   "display_name": "Python 3",
   "language": "python",
   "name": "python3"
  },
  "language_info": {
   "codemirror_mode": {
    "name": "ipython",
    "version": 3
   },
   "file_extension": ".py",
   "mimetype": "text/x-python",
   "name": "python",
   "nbconvert_exporter": "python",
   "pygments_lexer": "ipython3",
   "version": "3.12.0"
  }
 },
 "nbformat": 4,
 "nbformat_minor": 2
}
